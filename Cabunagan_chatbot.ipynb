{
  "nbformat": 4,
  "nbformat_minor": 0,
  "metadata": {
    "colab": {
      "name": "Cabunagan_chatbot.ipynb",
      "provenance": [],
      "collapsed_sections": [],
      "authorship_tag": "ABX9TyP9dq6a9C85ztWVHJhvWjYj",
      "include_colab_link": true
    },
    "kernelspec": {
      "name": "python3",
      "display_name": "Python 3"
    },
    "language_info": {
      "name": "python"
    }
  },
  "cells": [
    {
      "cell_type": "markdown",
      "metadata": {
        "id": "view-in-github",
        "colab_type": "text"
      },
      "source": [
        "<a href=\"https://colab.research.google.com/github/Jeco99/ICT-120-BSCS-3B/blob/main/Cabunagan_chatbot.ipynb\" target=\"_parent\"><img src=\"https://colab.research.google.com/assets/colab-badge.svg\" alt=\"Open In Colab\"/></a>"
      ]
    },
    {
      "cell_type": "code",
      "metadata": {
        "id": "LCwBrNyhwlmt"
      },
      "source": [
        ""
      ],
      "execution_count": null,
      "outputs": []
    },
    {
      "cell_type": "code",
      "metadata": {
        "id": "LIyAYIoNGQ1i",
        "colab": {
          "base_uri": "https://localhost:8080/"
        },
        "outputId": "db71408f-4479-4c88-92b3-35b6743360da"
      },
      "source": [
        "# Importing modules\n",
        "\n",
        "import re\n",
        "from nltk.corpus import wordnet\n",
        "import nltk\n",
        "nltk.download('wordnet')\n"
      ],
      "execution_count": 1,
      "outputs": [
        {
          "output_type": "stream",
          "text": [
            "[nltk_data] Downloading package wordnet to /root/nltk_data...\n",
            "[nltk_data]   Package wordnet is already up-to-date!\n"
          ],
          "name": "stdout"
        },
        {
          "output_type": "execute_result",
          "data": {
            "text/plain": [
              "True"
            ]
          },
          "metadata": {
            "tags": []
          },
          "execution_count": 1
        }
      ]
    },
    {
      "cell_type": "code",
      "metadata": {
        "id": "CBZOhteHxAQa",
        "colab": {
          "base_uri": "https://localhost:8080/"
        },
        "outputId": "d824e8f9-5625-4e54-aff5-a6a429a132b5"
      },
      "source": [
        "# Building a list of Keywords\n",
        " \n",
        "list_words=['hello','timings','account','difference','available']\n",
        "list_syn={}\n",
        "for word in list_words:\n",
        "    synonyms=[]\n",
        "    for syn in wordnet.synsets(word):\n",
        "        for lem in syn.lemmas():\n",
        "            \n",
        "            # Remove any special characters from synonym strings\n",
        "            lem_name = re.sub('[^a-zA-Z0-9 \\n\\.]', ' ', lem.name())\n",
        "            synonyms.append(lem_name)\n",
        "   \n",
        "    list_syn[word]=set(synonyms)\n",
        "    \n",
        "print (list_syn)"
      ],
      "execution_count": 2,
      "outputs": [
        {
          "output_type": "stream",
          "text": [
            "{'hello': {'hullo', 'howdy', 'hello', 'how do you do', 'hi'}, 'timings': {'clock', 'time', 'timing'}, 'account': {'bill', 'accounting', 'story', 'history', 'business relationship', 'chronicle', 'explanation', 'answer for', 'describe', 'score', 'calculate', 'report', 'account statement', 'write up', 'invoice', 'news report', 'account'}, 'difference': {'remainder', 'departure', 'divergence', 'difference', 'difference of opinion', 'deviation', 'dispute', 'conflict'}, 'available': {'usable', 'uncommitted', 'useable', 'available'}}\n"
          ],
          "name": "stdout"
        }
      ]
    },
    {
      "cell_type": "code",
      "metadata": {
        "colab": {
          "base_uri": "https://localhost:8080/"
        },
        "id": "n22mag75xJIj",
        "outputId": "1cf00ec6-96ea-4c34-938a-46206a63e00b"
      },
      "source": [
        "# Building dictionary of Intents & Keywords\n",
        "keywords={}\n",
        "keywords_dict={}\n",
        " \n",
        "# Defining a new key in the keywords dictionary\n",
        "keywords['greet']=[]\n",
        " \n",
        "# Populating the values in the keywords dictionary with synonyms of keywords formatted with RegEx metacharacters \n",
        "for synonym in list(list_syn['hello']):\n",
        "    keywords['greet'].append('.*\\\\b'+synonym+'\\\\b.*')\n",
        " \n",
        "# Defining a new key in the keywords dictionary\n",
        "keywords['timings']=[]\n",
        " \n",
        "# Populating the values in the keywords dictionary with synonyms of keywords formatted with RegEx metacharacters \n",
        "for synonym in list(list_syn['timings']):\n",
        "    keywords['timings'].append('.*\\\\b'+synonym+'\\\\b.*')\n",
        "\n",
        "# Defining a new key in the keywords dictionary\n",
        "keywords['account']=[]\n",
        " \n",
        "# Populating the values in the keywords dictionary with synonyms of keywords formatted with RegEx metacharacters \n",
        "for synonym in list(list_syn['account']):\n",
        "    keywords['account'].append('.*\\\\b'+synonym+'\\\\b.*')\n",
        "\n",
        "# Defining a new key in the keywords dictionary\n",
        "keywords['difference']=[]\n",
        " \n",
        "# Populating the values in the keywords dictionary with synonyms of keywords formatted with RegEx metacharacters \n",
        "for synonym in list(list_syn['difference']):\n",
        "    keywords['difference'].append('.*\\\\b'+synonym+'\\\\b.*')\n",
        "\n",
        "# Defining a new key in the keywords dictionary\n",
        "keywords['available']=[]\n",
        " \n",
        "# Populating the values in the keywords dictionary with synonyms of keywords formatted with RegEx metacharacters \n",
        "for synonym in list(list_syn['available']):\n",
        "    keywords['available'].append('.*\\\\b'+synonym+'\\\\b.*')\n",
        "\n",
        "\n",
        " \n",
        "for intent, keys in keywords.items():\n",
        "    \n",
        "    # Joining the values in the keywords dictionary with the OR (|) operator updating them in keywords_dict dictionary\n",
        "    keywords_dict[intent]=re.compile('|'.join(keys))\n",
        "print (keywords_dict)"
      ],
      "execution_count": 3,
      "outputs": [
        {
          "output_type": "stream",
          "text": [
            "{'greet': re.compile('.*\\\\bhullo\\\\b.*|.*\\\\bhowdy\\\\b.*|.*\\\\bhello\\\\b.*|.*\\\\bhow do you do\\\\b.*|.*\\\\bhi\\\\b.*'), 'timings': re.compile('.*\\\\bclock\\\\b.*|.*\\\\btime\\\\b.*|.*\\\\btiming\\\\b.*'), 'account': re.compile('.*\\\\bbill\\\\b.*|.*\\\\baccounting\\\\b.*|.*\\\\bstory\\\\b.*|.*\\\\bhistory\\\\b.*|.*\\\\bbusiness relationship\\\\b.*|.*\\\\bchronicle\\\\b.*|.*\\\\bexplanation\\\\b.*|.*\\\\banswer for\\\\b.*|.*\\\\bdescribe\\\\b.*|.*\\\\bscore\\\\b.*), 'difference': re.compile('.*\\\\bremainder\\\\b.*|.*\\\\bdeparture\\\\b.*|.*\\\\bdivergence\\\\b.*|.*\\\\bdifference\\\\b.*|.*\\\\bdifference of opinion\\\\b.*|.*\\\\bdeviation\\\\b.*|.*\\\\bdispute\\\\b.*|.*\\\\bconflict\\\\b.*'), 'available': re.compile('.*\\\\busable\\\\b.*|.*\\\\buncommitted\\\\b.*|.*\\\\buseable\\\\b.*|.*\\\\bavailable\\\\b.*')}\n"
          ],
          "name": "stdout"
        }
      ]
    },
    {
      "cell_type": "code",
      "metadata": {
        "id": "J_h4yeW8xPIH"
      },
      "source": [
        "# Building a dictionary of responses\n",
        "responses={\n",
        "    'greet':'Hello! How can I help you?',\n",
        "    'timings':'We are open from 9AM to 5PM, Monday to Friday. We are closed on weekends and public holidays.',\n",
        "    'ask': 'How can I open a bank account?.',\n",
        "    'account': 'Sure thing. What kind of account would you like to open? A savings account or a checking account?',\n",
        "    'difference': ' A checking account is designed to use for everyday transactions.Yet; the money in a savings account is meant to stay in the account and earn interest over time.',\n",
        "    'available': 'Available bank online is: BDO-www.bdo.com.ph and Security Bank- www.securitybank.com ',\n",
        "     'fallback':'I dont quite understand. Could you repeat that?',\n",
        "    \n",
        "}"
      ],
      "execution_count": 4,
      "outputs": []
    },
    {
      "cell_type": "code",
      "metadata": {
        "colab": {
          "base_uri": "https://localhost:8080/"
        },
        "id": "SP6goG0nxTOb",
        "outputId": "6c1c9299-6e35-4b04-9673-b2fe0199a270"
      },
      "source": [
        "print (\"Welcome to MyBank. How may I help you?\")\n",
        "\n",
        "# While loop to run the chatbot indefinetely\n",
        "while (True):  \n",
        "    \n",
        "    # Takes the user input and converts all characters to lowercase\n",
        "    user_input = input().lower()\n",
        "    \n",
        "    # Defining the Chatbot's exit condition\n",
        "    if user_input == 'quit': \n",
        "        print (\"Thank you for visiting.\")\n",
        "        break    \n",
        "    \n",
        "    matched_intent = None \n",
        "    \n",
        "    for intent,pattern in keywords_dict.items():\n",
        "        \n",
        "        # Using the regular expression search function to look for keywords in user input\n",
        "        if re.search(pattern, user_input): \n",
        "            \n",
        "            # if a keyword matches, select the corresponding intent from the keywords_dict dictionary\n",
        "            matched_intent=intent  \n",
        "    \n",
        "    # The fallback intent is selected by default\n",
        "    key='fallback' \n",
        "    if matched_intent in responses:\n",
        "        \n",
        "        # If a keyword matches, the fallback intent is replaced by the matched intent as the key for the responses dictionary\n",
        "        key = matched_intent \n",
        "    \n",
        "    # The chatbot prints the response that matches the selected intent\n",
        "    print (responses[key]) "
      ],
      "execution_count": 6,
      "outputs": [
        {
          "output_type": "stream",
          "text": [
            "Welcome to MyBank. How may I help you?\n",
            "quit\n",
            "Thank you for visiting.\n"
          ],
          "name": "stdout"
        }
      ]
    }
  ]
}